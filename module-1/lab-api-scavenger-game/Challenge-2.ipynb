{
 "cells": [
  {
   "cell_type": "code",
   "execution_count": null,
   "metadata": {},
   "outputs": [],
   "source": [
    "# enter your code below\n",
    "# Los commits. Buscamos en la pagina de la API a ver lo que dice de los commits\n",
    "# y hacemos lo mismo que hemos hecho en el anterior"
   ]
  },
  {
   "cell_type": "code",
   "execution_count": 1,
   "metadata": {},
   "outputs": [
    {
     "data": {
      "text/plain": [
       "True"
      ]
     },
     "execution_count": 1,
     "metadata": {},
     "output_type": "execute_result"
    }
   ],
   "source": [
    "import json\n",
    "from dotenv import load_dotenv\n",
    "import os\n",
    "import requests\n",
    "load_dotenv()\n"
   ]
  },
  {
   "cell_type": "code",
   "execution_count": 2,
   "metadata": {},
   "outputs": [
    {
     "name": "stdout",
     "output_type": "stream",
     "text": [
      "200\n"
     ]
    }
   ],
   "source": [
    "#buscamos en la pagina y nos dice que la estructura es la misma pero terminada en commits\n",
    "# GET /repos/:owner/:repo/commits (que utilices Get, que pongas el propietario y el repo y commits)\n",
    "url=\"https://api.github.com/repos/ironhack-datalabs/datamad0620/commits\"\n",
    "x = requests.get(url)\n",
    "print(x.status_code)\n",
    "#Sale 200, esta funcionando."
   ]
  },
  {
   "cell_type": "code",
   "execution_count": 3,
   "metadata": {},
   "outputs": [],
   "source": [
    "#lo convierto en un array para trabajar\n",
    "array=x.json()"
   ]
  },
  {
   "cell_type": "code",
   "execution_count": 4,
   "metadata": {},
   "outputs": [
    {
     "data": {
      "text/plain": [
       "4"
      ]
     },
     "execution_count": 4,
     "metadata": {},
     "output_type": "execute_result"
    }
   ],
   "source": [
    "len(array)"
   ]
  },
  {
   "cell_type": "code",
   "execution_count": 5,
   "metadata": {},
   "outputs": [
    {
     "ename": "KeyError",
     "evalue": "'date'",
     "output_type": "error",
     "traceback": [
      "\u001b[0;31m---------------------------------------------------------------------------\u001b[0m",
      "\u001b[0;31mKeyError\u001b[0m                                  Traceback (most recent call last)",
      "\u001b[0;32m<ipython-input-5-3d034d22d221>\u001b[0m in \u001b[0;36m<module>\u001b[0;34m\u001b[0m\n\u001b[1;32m      2\u001b[0m \u001b[0;31m#le decimos que imprima las fechas de los commits\u001b[0m\u001b[0;34m\u001b[0m\u001b[0;34m\u001b[0m\u001b[0;34m\u001b[0m\u001b[0m\n\u001b[1;32m      3\u001b[0m \u001b[0;32mfor\u001b[0m \u001b[0mcommits\u001b[0m \u001b[0;32min\u001b[0m \u001b[0marray\u001b[0m\u001b[0;34m:\u001b[0m\u001b[0;34m\u001b[0m\u001b[0;34m\u001b[0m\u001b[0m\n\u001b[0;32m----> 4\u001b[0;31m     \u001b[0mprint\u001b[0m \u001b[0;34m(\u001b[0m\u001b[0mcommits\u001b[0m\u001b[0;34m[\u001b[0m\u001b[0;34m'date'\u001b[0m\u001b[0;34m]\u001b[0m\u001b[0;34m)\u001b[0m\u001b[0;34m\u001b[0m\u001b[0;34m\u001b[0m\u001b[0m\n\u001b[0m",
      "\u001b[0;31mKeyError\u001b[0m: 'date'"
     ]
    }
   ],
   "source": [
    "#entiendo que ha funcionado y que solo tiene 4 diccionarios en la lista\n",
    "#le decimos que imprima las fechas de los commits\n",
    "for commits in array:\n",
    "    print (commits['date'])"
   ]
  },
  {
   "cell_type": "code",
   "execution_count": 6,
   "metadata": {},
   "outputs": [
    {
     "name": "stdout",
     "output_type": "stream",
     "text": [
      "[{'sha': '1369c4b0617a22ec789d04cb2cac81fe7a155fbd', 'node_id': 'MDY6Q29tbWl0MjY4NTA5NDIxOjEzNjljNGIwNjE3YTIyZWM3ODlkMDRjYjJjYWM4MWZlN2ExNTVmYmQ=', 'commit': {'author': {'name': 'Marc Pomar', 'email': 'marc@faable.com', 'date': '2020-06-01T11:28:14Z'}, 'committer': {'name': 'Marc Pomar', 'email': 'marc@faable.com', 'date': '2020-06-01T11:28:14Z'}, 'message': 'ejercicio completado', 'tree': {'sha': '489bdb97e8020c4e9e5c64c81f2195964723517e', 'url': 'https://api.github.com/repos/ironhack-datalabs/datamad0620/git/trees/489bdb97e8020c4e9e5c64c81f2195964723517e'}, 'url': 'https://api.github.com/repos/ironhack-datalabs/datamad0620/git/commits/1369c4b0617a22ec789d04cb2cac81fe7a155fbd', 'comment_count': 0, 'verification': {'verified': False, 'reason': 'unsigned', 'signature': None, 'payload': None}}, 'url': 'https://api.github.com/repos/ironhack-datalabs/datamad0620/commits/1369c4b0617a22ec789d04cb2cac81fe7a155fbd', 'html_url': 'https://github.com/ironhack-datalabs/datamad0620/commit/1369c4b0617a22ec789d04cb2cac81fe7a155fbd', 'comments_url': 'https://api.github.com/repos/ironhack-datalabs/datamad0620/commits/1369c4b0617a22ec789d04cb2cac81fe7a155fbd/comments', 'author': {'login': 'boyander', 'id': 568638, 'node_id': 'MDQ6VXNlcjU2ODYzOA==', 'avatar_url': 'https://avatars1.githubusercontent.com/u/568638?v=4', 'gravatar_id': '', 'url': 'https://api.github.com/users/boyander', 'html_url': 'https://github.com/boyander', 'followers_url': 'https://api.github.com/users/boyander/followers', 'following_url': 'https://api.github.com/users/boyander/following{/other_user}', 'gists_url': 'https://api.github.com/users/boyander/gists{/gist_id}', 'starred_url': 'https://api.github.com/users/boyander/starred{/owner}{/repo}', 'subscriptions_url': 'https://api.github.com/users/boyander/subscriptions', 'organizations_url': 'https://api.github.com/users/boyander/orgs', 'repos_url': 'https://api.github.com/users/boyander/repos', 'events_url': 'https://api.github.com/users/boyander/events{/privacy}', 'received_events_url': 'https://api.github.com/users/boyander/received_events', 'type': 'User', 'site_admin': False}, 'committer': {'login': 'boyander', 'id': 568638, 'node_id': 'MDQ6VXNlcjU2ODYzOA==', 'avatar_url': 'https://avatars1.githubusercontent.com/u/568638?v=4', 'gravatar_id': '', 'url': 'https://api.github.com/users/boyander', 'html_url': 'https://github.com/boyander', 'followers_url': 'https://api.github.com/users/boyander/followers', 'following_url': 'https://api.github.com/users/boyander/following{/other_user}', 'gists_url': 'https://api.github.com/users/boyander/gists{/gist_id}', 'starred_url': 'https://api.github.com/users/boyander/starred{/owner}{/repo}', 'subscriptions_url': 'https://api.github.com/users/boyander/subscriptions', 'organizations_url': 'https://api.github.com/users/boyander/orgs', 'repos_url': 'https://api.github.com/users/boyander/repos', 'events_url': 'https://api.github.com/users/boyander/events{/privacy}', 'received_events_url': 'https://api.github.com/users/boyander/received_events', 'type': 'User', 'site_admin': False}, 'parents': [{'sha': '6ff3bc11c87a4e7b729c62499bd52117e6eff71d', 'url': 'https://api.github.com/repos/ironhack-datalabs/datamad0620/commits/6ff3bc11c87a4e7b729c62499bd52117e6eff71d', 'html_url': 'https://github.com/ironhack-datalabs/datamad0620/commit/6ff3bc11c87a4e7b729c62499bd52117e6eff71d'}]}, {'sha': '6ff3bc11c87a4e7b729c62499bd52117e6eff71d', 'node_id': 'MDY6Q29tbWl0MjY4NTA5NDIxOjZmZjNiYzExYzg3YTRlN2I3MjljNjI0OTliZDUyMTE3ZTZlZmY3MWQ=', 'commit': {'author': {'name': 'Felipe Ferrero', 'email': '52798316+ferrero-felipe@users.noreply.github.com', 'date': '2020-03-27T15:03:10Z'}, 'committer': {'name': 'GitHub', 'email': 'noreply@github.com', 'date': '2020-03-27T15:03:10Z'}, 'message': 'Merge pull request #133 from ferrero-felipe/master\\n\\nadding __pycache__/ to gitignore', 'tree': {'sha': 'a26220c1db1e2ef8847c8e3e712ad38f8a0e62e1', 'url': 'https://api.github.com/repos/ironhack-datalabs/datamad0620/git/trees/a26220c1db1e2ef8847c8e3e712ad38f8a0e62e1'}, 'url': 'https://api.github.com/repos/ironhack-datalabs/datamad0620/git/commits/6ff3bc11c87a4e7b729c62499bd52117e6eff71d', 'comment_count': 0, 'verification': {'verified': True, 'reason': 'valid', 'signature': '-----BEGIN PGP SIGNATURE-----\\n\\nwsBcBAABCAAQBQJefhWuCRBK7hj4Ov3rIwAAdHIIABGxWDbsjSQcQ5wm9no+JHpV\\nKODJ9gfSAUDC/+BvmuhvuLO73RoH213V+Kfc4oM86Jl/UGl0/wgjaiVljjiQcilg\\nPHBJnp4xVLHfZeUgjeIgdytMOPZ24XaFG07Nai1R1ScLxP4gSydZQmMxhwCq+3b2\\n6/9Q3GmjDt56Jmibtr1DxtM8kfoCivc0M1xOXPNeChEHe4EyqPcl6NmcyzlwMhjf\\nNfzhDXLi57LShuBszV4UAYgyeymAmuc9+VE6d6fr8tYNQ+HXrqKqePvFL17TvUfq\\n4qsbsmTcEjb6A8FyBIroq5kzmiHO1p9xJz+JtP8fD/EkUvLOGKl1P2IcxCFAnMs=\\n=FocB\\n-----END PGP SIGNATURE-----\\n', 'payload': 'tree a26220c1db1e2ef8847c8e3e712ad38f8a0e62e1\\nparent c9d3b913fdb50a35a52778f53a928d5d3a6ec746\\nparent 817303f225cef4dd5a4c7eb9e213d1be212f51d2\\nauthor Felipe Ferrero <52798316+ferrero-felipe@users.noreply.github.com> 1585321390 +0100\\ncommitter GitHub <noreply@github.com> 1585321390 +0100\\n\\nMerge pull request #133 from ferrero-felipe/master\\n\\nadding __pycache__/ to gitignore'}}, 'url': 'https://api.github.com/repos/ironhack-datalabs/datamad0620/commits/6ff3bc11c87a4e7b729c62499bd52117e6eff71d', 'html_url': 'https://github.com/ironhack-datalabs/datamad0620/commit/6ff3bc11c87a4e7b729c62499bd52117e6eff71d', 'comments_url': 'https://api.github.com/repos/ironhack-datalabs/datamad0620/commits/6ff3bc11c87a4e7b729c62499bd52117e6eff71d/comments', 'author': {'login': 'ferrero-felipe', 'id': 52798316, 'node_id': 'MDQ6VXNlcjUyNzk4MzE2', 'avatar_url': 'https://avatars2.githubusercontent.com/u/52798316?v=4', 'gravatar_id': '', 'url': 'https://api.github.com/users/ferrero-felipe', 'html_url': 'https://github.com/ferrero-felipe', 'followers_url': 'https://api.github.com/users/ferrero-felipe/followers', 'following_url': 'https://api.github.com/users/ferrero-felipe/following{/other_user}', 'gists_url': 'https://api.github.com/users/ferrero-felipe/gists{/gist_id}', 'starred_url': 'https://api.github.com/users/ferrero-felipe/starred{/owner}{/repo}', 'subscriptions_url': 'https://api.github.com/users/ferrero-felipe/subscriptions', 'organizations_url': 'https://api.github.com/users/ferrero-felipe/orgs', 'repos_url': 'https://api.github.com/users/ferrero-felipe/repos', 'events_url': 'https://api.github.com/users/ferrero-felipe/events{/privacy}', 'received_events_url': 'https://api.github.com/users/ferrero-felipe/received_events', 'type': 'User', 'site_admin': False}, 'committer': {'login': 'web-flow', 'id': 19864447, 'node_id': 'MDQ6VXNlcjE5ODY0NDQ3', 'avatar_url': 'https://avatars3.githubusercontent.com/u/19864447?v=4', 'gravatar_id': '', 'url': 'https://api.github.com/users/web-flow', 'html_url': 'https://github.com/web-flow', 'followers_url': 'https://api.github.com/users/web-flow/followers', 'following_url': 'https://api.github.com/users/web-flow/following{/other_user}', 'gists_url': 'https://api.github.com/users/web-flow/gists{/gist_id}', 'starred_url': 'https://api.github.com/users/web-flow/starred{/owner}{/repo}', 'subscriptions_url': 'https://api.github.com/users/web-flow/subscriptions', 'organizations_url': 'https://api.github.com/users/web-flow/orgs', 'repos_url': 'https://api.github.com/users/web-flow/repos', 'events_url': 'https://api.github.com/users/web-flow/events{/privacy}', 'received_events_url': 'https://api.github.com/users/web-flow/received_events', 'type': 'User', 'site_admin': False}, 'parents': [{'sha': 'c9d3b913fdb50a35a52778f53a928d5d3a6ec746', 'url': 'https://api.github.com/repos/ironhack-datalabs/datamad0620/commits/c9d3b913fdb50a35a52778f53a928d5d3a6ec746', 'html_url': 'https://github.com/ironhack-datalabs/datamad0620/commit/c9d3b913fdb50a35a52778f53a928d5d3a6ec746'}, {'sha': '817303f225cef4dd5a4c7eb9e213d1be212f51d2', 'url': 'https://api.github.com/repos/ironhack-datalabs/datamad0620/commits/817303f225cef4dd5a4c7eb9e213d1be212f51d2', 'html_url': 'https://github.com/ironhack-datalabs/datamad0620/commit/817303f225cef4dd5a4c7eb9e213d1be212f51d2'}]}, {'sha': '817303f225cef4dd5a4c7eb9e213d1be212f51d2', 'node_id': 'MDY6Q29tbWl0MjY4NTA5NDIxOjgxNzMwM2YyMjVjZWY0ZGQ1YTRjN2ViOWUyMTNkMWJlMjEyZjUxZDI=', 'commit': {'author': {'name': 'ferrero-felipe', 'email': 'ferrero.felipe@gmail.com', 'date': '2020-03-27T14:59:56Z'}, 'committer': {'name': 'ferrero-felipe', 'email': 'ferrero.felipe@gmail.com', 'date': '2020-03-27T14:59:56Z'}, 'message': 'adding __pycache__/ to gitignore', 'tree': {'sha': 'a26220c1db1e2ef8847c8e3e712ad38f8a0e62e1', 'url': 'https://api.github.com/repos/ironhack-datalabs/datamad0620/git/trees/a26220c1db1e2ef8847c8e3e712ad38f8a0e62e1'}, 'url': 'https://api.github.com/repos/ironhack-datalabs/datamad0620/git/commits/817303f225cef4dd5a4c7eb9e213d1be212f51d2', 'comment_count': 0, 'verification': {'verified': False, 'reason': 'unsigned', 'signature': None, 'payload': None}}, 'url': 'https://api.github.com/repos/ironhack-datalabs/datamad0620/commits/817303f225cef4dd5a4c7eb9e213d1be212f51d2', 'html_url': 'https://github.com/ironhack-datalabs/datamad0620/commit/817303f225cef4dd5a4c7eb9e213d1be212f51d2', 'comments_url': 'https://api.github.com/repos/ironhack-datalabs/datamad0620/commits/817303f225cef4dd5a4c7eb9e213d1be212f51d2/comments', 'author': {'login': 'ferrero-felipe', 'id': 52798316, 'node_id': 'MDQ6VXNlcjUyNzk4MzE2', 'avatar_url': 'https://avatars2.githubusercontent.com/u/52798316?v=4', 'gravatar_id': '', 'url': 'https://api.github.com/users/ferrero-felipe', 'html_url': 'https://github.com/ferrero-felipe', 'followers_url': 'https://api.github.com/users/ferrero-felipe/followers', 'following_url': 'https://api.github.com/users/ferrero-felipe/following{/other_user}', 'gists_url': 'https://api.github.com/users/ferrero-felipe/gists{/gist_id}', 'starred_url': 'https://api.github.com/users/ferrero-felipe/starred{/owner}{/repo}', 'subscriptions_url': 'https://api.github.com/users/ferrero-felipe/subscriptions', 'organizations_url': 'https://api.github.com/users/ferrero-felipe/orgs', 'repos_url': 'https://api.github.com/users/ferrero-felipe/repos', 'events_url': 'https://api.github.com/users/ferrero-felipe/events{/privacy}', 'received_events_url': 'https://api.github.com/users/ferrero-felipe/received_events', 'type': 'User', 'site_admin': False}, 'committer': {'login': 'ferrero-felipe', 'id': 52798316, 'node_id': 'MDQ6VXNlcjUyNzk4MzE2', 'avatar_url': 'https://avatars2.githubusercontent.com/u/52798316?v=4', 'gravatar_id': '', 'url': 'https://api.github.com/users/ferrero-felipe', 'html_url': 'https://github.com/ferrero-felipe', 'followers_url': 'https://api.github.com/users/ferrero-felipe/followers', 'following_url': 'https://api.github.com/users/ferrero-felipe/following{/other_user}', 'gists_url': 'https://api.github.com/users/ferrero-felipe/gists{/gist_id}', 'starred_url': 'https://api.github.com/users/ferrero-felipe/starred{/owner}{/repo}', 'subscriptions_url': 'https://api.github.com/users/ferrero-felipe/subscriptions', 'organizations_url': 'https://api.github.com/users/ferrero-felipe/orgs', 'repos_url': 'https://api.github.com/users/ferrero-felipe/repos', 'events_url': 'https://api.github.com/users/ferrero-felipe/events{/privacy}', 'received_events_url': 'https://api.github.com/users/ferrero-felipe/received_events', 'type': 'User', 'site_admin': False}, 'parents': [{'sha': 'c9d3b913fdb50a35a52778f53a928d5d3a6ec746', 'url': 'https://api.github.com/repos/ironhack-datalabs/datamad0620/commits/c9d3b913fdb50a35a52778f53a928d5d3a6ec746', 'html_url': 'https://github.com/ironhack-datalabs/datamad0620/commit/c9d3b913fdb50a35a52778f53a928d5d3a6ec746'}]}, {'sha': 'c9d3b913fdb50a35a52778f53a928d5d3a6ec746', 'node_id': 'MDY6Q29tbWl0MjY4NTA5NDIxOmM5ZDNiOTEzZmRiNTBhMzVhNTI3NzhmNTNhOTI4ZDVkM2E2ZWM3NDY=', 'commit': {'author': {'name': 'Marc Pomar', 'email': 'marc@faable.com', 'date': '2020-03-23T11:31:26Z'}, 'committer': {'name': 'Marc Pomar', 'email': 'marc@faable.com', 'date': '2020-03-23T11:31:26Z'}, 'message': 'hola', 'tree': {'sha': '118a8f97daba7d501114eebf2dafce3856382459', 'url': 'https://api.github.com/repos/ironhack-datalabs/datamad0620/git/trees/118a8f97daba7d501114eebf2dafce3856382459'}, 'url': 'https://api.github.com/repos/ironhack-datalabs/datamad0620/git/commits/c9d3b913fdb50a35a52778f53a928d5d3a6ec746', 'comment_count': 0, 'verification': {'verified': False, 'reason': 'unsigned', 'signature': None, 'payload': None}}, 'url': 'https://api.github.com/repos/ironhack-datalabs/datamad0620/commits/c9d3b913fdb50a35a52778f53a928d5d3a6ec746', 'html_url': 'https://github.com/ironhack-datalabs/datamad0620/commit/c9d3b913fdb50a35a52778f53a928d5d3a6ec746', 'comments_url': 'https://api.github.com/repos/ironhack-datalabs/datamad0620/commits/c9d3b913fdb50a35a52778f53a928d5d3a6ec746/comments', 'author': {'login': 'boyander', 'id': 568638, 'node_id': 'MDQ6VXNlcjU2ODYzOA==', 'avatar_url': 'https://avatars1.githubusercontent.com/u/568638?v=4', 'gravatar_id': '', 'url': 'https://api.github.com/users/boyander', 'html_url': 'https://github.com/boyander', 'followers_url': 'https://api.github.com/users/boyander/followers', 'following_url': 'https://api.github.com/users/boyander/following{/other_user}', 'gists_url': 'https://api.github.com/users/boyander/gists{/gist_id}', 'starred_url': 'https://api.github.com/users/boyander/starred{/owner}{/repo}', 'subscriptions_url': 'https://api.github.com/users/boyander/subscriptions', 'organizations_url': 'https://api.github.com/users/boyander/orgs', 'repos_url': 'https://api.github.com/users/boyander/repos', 'events_url': 'https://api.github.com/users/boyander/events{/privacy}', 'received_events_url': 'https://api.github.com/users/boyander/received_events', 'type': 'User', 'site_admin': False}, 'committer': {'login': 'boyander', 'id': 568638, 'node_id': 'MDQ6VXNlcjU2ODYzOA==', 'avatar_url': 'https://avatars1.githubusercontent.com/u/568638?v=4', 'gravatar_id': '', 'url': 'https://api.github.com/users/boyander', 'html_url': 'https://github.com/boyander', 'followers_url': 'https://api.github.com/users/boyander/followers', 'following_url': 'https://api.github.com/users/boyander/following{/other_user}', 'gists_url': 'https://api.github.com/users/boyander/gists{/gist_id}', 'starred_url': 'https://api.github.com/users/boyander/starred{/owner}{/repo}', 'subscriptions_url': 'https://api.github.com/users/boyander/subscriptions', 'organizations_url': 'https://api.github.com/users/boyander/orgs', 'repos_url': 'https://api.github.com/users/boyander/repos', 'events_url': 'https://api.github.com/users/boyander/events{/privacy}', 'received_events_url': 'https://api.github.com/users/boyander/received_events', 'type': 'User', 'site_admin': False}, 'parents': []}]\n"
     ]
    }
   ],
   "source": [
    "print(array)"
   ]
  },
  {
   "cell_type": "code",
   "execution_count": 7,
   "metadata": {},
   "outputs": [
    {
     "name": "stdout",
     "output_type": "stream",
     "text": [
      "{'login': 'boyander', 'id': 568638, 'node_id': 'MDQ6VXNlcjU2ODYzOA==', 'avatar_url': 'https://avatars1.githubusercontent.com/u/568638?v=4', 'gravatar_id': '', 'url': 'https://api.github.com/users/boyander', 'html_url': 'https://github.com/boyander', 'followers_url': 'https://api.github.com/users/boyander/followers', 'following_url': 'https://api.github.com/users/boyander/following{/other_user}', 'gists_url': 'https://api.github.com/users/boyander/gists{/gist_id}', 'starred_url': 'https://api.github.com/users/boyander/starred{/owner}{/repo}', 'subscriptions_url': 'https://api.github.com/users/boyander/subscriptions', 'organizations_url': 'https://api.github.com/users/boyander/orgs', 'repos_url': 'https://api.github.com/users/boyander/repos', 'events_url': 'https://api.github.com/users/boyander/events{/privacy}', 'received_events_url': 'https://api.github.com/users/boyander/received_events', 'type': 'User', 'site_admin': False}\n",
      "{'login': 'ferrero-felipe', 'id': 52798316, 'node_id': 'MDQ6VXNlcjUyNzk4MzE2', 'avatar_url': 'https://avatars2.githubusercontent.com/u/52798316?v=4', 'gravatar_id': '', 'url': 'https://api.github.com/users/ferrero-felipe', 'html_url': 'https://github.com/ferrero-felipe', 'followers_url': 'https://api.github.com/users/ferrero-felipe/followers', 'following_url': 'https://api.github.com/users/ferrero-felipe/following{/other_user}', 'gists_url': 'https://api.github.com/users/ferrero-felipe/gists{/gist_id}', 'starred_url': 'https://api.github.com/users/ferrero-felipe/starred{/owner}{/repo}', 'subscriptions_url': 'https://api.github.com/users/ferrero-felipe/subscriptions', 'organizations_url': 'https://api.github.com/users/ferrero-felipe/orgs', 'repos_url': 'https://api.github.com/users/ferrero-felipe/repos', 'events_url': 'https://api.github.com/users/ferrero-felipe/events{/privacy}', 'received_events_url': 'https://api.github.com/users/ferrero-felipe/received_events', 'type': 'User', 'site_admin': False}\n",
      "{'login': 'ferrero-felipe', 'id': 52798316, 'node_id': 'MDQ6VXNlcjUyNzk4MzE2', 'avatar_url': 'https://avatars2.githubusercontent.com/u/52798316?v=4', 'gravatar_id': '', 'url': 'https://api.github.com/users/ferrero-felipe', 'html_url': 'https://github.com/ferrero-felipe', 'followers_url': 'https://api.github.com/users/ferrero-felipe/followers', 'following_url': 'https://api.github.com/users/ferrero-felipe/following{/other_user}', 'gists_url': 'https://api.github.com/users/ferrero-felipe/gists{/gist_id}', 'starred_url': 'https://api.github.com/users/ferrero-felipe/starred{/owner}{/repo}', 'subscriptions_url': 'https://api.github.com/users/ferrero-felipe/subscriptions', 'organizations_url': 'https://api.github.com/users/ferrero-felipe/orgs', 'repos_url': 'https://api.github.com/users/ferrero-felipe/repos', 'events_url': 'https://api.github.com/users/ferrero-felipe/events{/privacy}', 'received_events_url': 'https://api.github.com/users/ferrero-felipe/received_events', 'type': 'User', 'site_admin': False}\n",
      "{'login': 'boyander', 'id': 568638, 'node_id': 'MDQ6VXNlcjU2ODYzOA==', 'avatar_url': 'https://avatars1.githubusercontent.com/u/568638?v=4', 'gravatar_id': '', 'url': 'https://api.github.com/users/boyander', 'html_url': 'https://github.com/boyander', 'followers_url': 'https://api.github.com/users/boyander/followers', 'following_url': 'https://api.github.com/users/boyander/following{/other_user}', 'gists_url': 'https://api.github.com/users/boyander/gists{/gist_id}', 'starred_url': 'https://api.github.com/users/boyander/starred{/owner}{/repo}', 'subscriptions_url': 'https://api.github.com/users/boyander/subscriptions', 'organizations_url': 'https://api.github.com/users/boyander/orgs', 'repos_url': 'https://api.github.com/users/boyander/repos', 'events_url': 'https://api.github.com/users/boyander/events{/privacy}', 'received_events_url': 'https://api.github.com/users/boyander/received_events', 'type': 'User', 'site_admin': False}\n"
     ]
    }
   ],
   "source": [
    "for commits in array:\n",
    "    print (commits['author'])"
   ]
  },
  {
   "cell_type": "code",
   "execution_count": 9,
   "metadata": {},
   "outputs": [],
   "source": [
    "# pues funciona con autores pero no funciona con date. Deber ser problema de codigo."
   ]
  },
  {
   "cell_type": "code",
   "execution_count": null,
   "metadata": {},
   "outputs": [],
   "source": [
    "# No he utilizado la apykey en ningun momento. ALgo estoy haciendo mal."
   ]
  }
 ],
 "metadata": {
  "kernelspec": {
   "display_name": "Python 3",
   "language": "python",
   "name": "python3"
  },
  "language_info": {
   "codemirror_mode": {
    "name": "ipython",
    "version": 3
   },
   "file_extension": ".py",
   "mimetype": "text/x-python",
   "name": "python",
   "nbconvert_exporter": "python",
   "pygments_lexer": "ipython3",
   "version": "3.6.9"
  }
 },
 "nbformat": 4,
 "nbformat_minor": 4
}
