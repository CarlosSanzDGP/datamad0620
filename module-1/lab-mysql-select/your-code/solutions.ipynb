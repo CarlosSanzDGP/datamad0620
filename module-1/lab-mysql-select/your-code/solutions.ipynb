{
 "cells": [
  {
   "cell_type": "code",
   "execution_count": null,
   "metadata": {},
   "outputs": [],
   "source": [
    "SELECT authors.au_id AS 'AUTHOR ID', authors.au_lname AS 'LAST NAME', authors.au_fname AS 'FIRST NAME', titles.title AS 'TITLE', publishers.pub_name AS 'PUBLISHER'\n",
    "FROM authors\n",
    "    LEFT JOIN titleauthor \n",
    "    ON authors.au_id = titleauthor.au_id\n",
    "    LEFT JOIN titles\n",
    "    ON titleauthor.title_id = titles.title_id\n",
    "    LEFT JOIN publishers\n",
    "    ON titles.pub_id = publishers.pub_id\n",
    "ORDER BY 'LAST NAME';\n",
    "\n",
    "#OJO QUE ESTOY UNIENDO LA SEGUNDA TABLA SOLO COMO PUENTE\n",
    "\n",
    "\n",
    "\n",
    "\n",
    "SELECT `AUTHOR ID`, `LAST NAME`, `FIRST NAME`, `PUBLISHER`, COUNT(title)\n",
    "    FROM\n",
    "    (SELECT authors.au_id AS `AUTHOR ID`, authors.au_lname AS `LAST NAME`, authors.au_fname AS `FIRST NAME`, titles.title AS `TITLE`, publishers.pub_name AS `PUBLISHER`\n",
    "    FROM authors \n",
    "    LEFT JOIN titleauthor\n",
    "    ON authors.au_id=titleauthor.au_id\n",
    "    LEFT JOIN titles\n",
    "    ON titleauthor.title_id=titles.title_id\n",
    "    LEFT JOIN publishers\n",
    "    ON titles.pub_id=publishers.pub_id)AS s\n",
    "GROUP BY `AUTHOR ID`, `PUBLISHER`;\n",
    "\n",
    "\n",
    "\n",
    "\n",
    "\n",
    "\n",
    "\n",
    "\n",
    "\n",
    "SELECT authors.au_id AS `AUTHOR ID`, authors.au_lname AS `LAST NAME`, authors.au_fname AS `FIRST NAME`, SUM(sales.qty) `TOTAL`\n",
    "FROM authors\n",
    "LEFT JOIN titleauthor\n",
    "ON authors.au_id=titleauthor.au_id\n",
    "LEFT JOIN sales\n",
    "ON titleauthor.title_id=sales.title_id\n",
    "GROUP BY `AUTHOR ID`\n",
    "ORDER BY `TOTAL`DESC\n",
    "LIMIT 3;\n",
    "    \n"
   ]
  }
 ],
 "metadata": {
  "kernelspec": {
   "display_name": "Python 3",
   "language": "python",
   "name": "python3"
  },
  "language_info": {
   "codemirror_mode": {
    "name": "ipython",
    "version": 3
   },
   "file_extension": ".py",
   "mimetype": "text/x-python",
   "name": "python",
   "nbconvert_exporter": "python",
   "pygments_lexer": "ipython3",
   "version": "3.6.9"
  }
 },
 "nbformat": 4,
 "nbformat_minor": 4
}
